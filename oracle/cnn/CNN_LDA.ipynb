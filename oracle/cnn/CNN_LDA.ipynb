{
 "cells": [
  {
   "cell_type": "code",
   "execution_count": null,
   "id": "221ebd9c",
   "metadata": {},
   "outputs": [
    {
     "name": "stdout",
     "output_type": "stream",
     "text": [
      "The size of train set: 27222\n",
      "The size of t10k set: 3000\n"
     ]
    },
    {
     "name": "stderr",
     "output_type": "stream",
     "text": [
      "C:\\Users\\ted12\\AppData\\Local\\Temp\\ipykernel_27464\\706403191.py:60: FutureWarning: You are using `torch.load` with `weights_only=False` (the current default value), which uses the default pickle module implicitly. It is possible to construct malicious pickle data which will execute arbitrary code during unpickling (See https://github.com/pytorch/pytorch/blob/main/SECURITY.md#untrusted-models for more details). In a future release, the default value for `weights_only` will be flipped to `True`. This limits the functions that could be executed during unpickling. Arbitrary objects will no longer be allowed to be loaded via this mode unless they are explicitly allowlisted by the user via `torch.serialization.add_safe_globals`. We recommend you start setting `weights_only=True` for any use case where you don't have full control of the loaded file. Please open an issue on GitHub for any issues related to this experimental feature.\n",
      "  model.load_state_dict(torch.load(\"best_cnn_model.pt\", map_location=torch.device(\"cpu\")))\n"
     ]
    }
   ],
   "source": [
    "import torch\n",
    "import torch.nn as nn\n",
    "import torch.nn.functional as F\n",
    "from torch.utils.data import TensorDataset, DataLoader\n",
    "import numpy as np\n",
    "import os\n",
    "import pandas as pd\n",
    "import matplotlib.pyplot as plt\n",
    "import seaborn as sns\n",
    "from sklearn.metrics import classification_report, confusion_matrix, accuracy_score\n",
    "import mnist_reader\n",
    "from sklearn.decomposition import PCA\n",
    "from sklearn.discriminant_analysis import LinearDiscriminantAnalysis\n",
    "\n",
    "\n",
    "x_train, y_train = mnist_reader.load_data('../../data/oracle', kind='train')\n",
    "x_test, y_test = mnist_reader.load_data('../../data/oracle', kind='t10k')\n",
    "\n",
    "x_train = x_train.reshape(-1, 1, 28, 28).astype(np.float32) / 255.0\n",
    "x_test = x_test.reshape(-1, 1, 28, 28).astype(np.float32) / 255.0\n",
    "\n",
    "y_train = y_train.astype(np.int64)\n",
    "y_test = y_test.astype(np.int64)\n",
    "\n",
    "train_dataset = TensorDataset(torch.tensor(x_train), torch.tensor(y_train))\n",
    "test_dataset = TensorDataset(torch.tensor(x_test), torch.tensor(y_test))\n",
    "\n",
    "train_loader = DataLoader(train_dataset, batch_size=64, shuffle=True)\n",
    "test_loader = DataLoader(test_dataset, batch_size=64)\n",
    "\n",
    "class SimpleCNN(nn.Module):\n",
    "    def __init__(self, num_classes=10):\n",
    "        super(SimpleCNN, self).__init__()\n",
    "        self.conv1 = nn.Conv2d(1, 32, kernel_size=3)\n",
    "        self.pool1 = nn.MaxPool2d(2)\n",
    "        self.conv2 = nn.Conv2d(32, 64, kernel_size=3)\n",
    "        self.pool2 = nn.MaxPool2d(2)\n",
    "        self.flatten = nn.Flatten()\n",
    "        self.fc1 = nn.Linear(64 * 5 * 5, 128)\n",
    "        self.fc2 = nn.Linear(128, num_classes)\n",
    "\n",
    "    def forward(self, x, return_features=False):\n",
    "        x = self.pool1(F.relu(self.conv1(x)))\n",
    "        x = self.pool2(F.relu(self.conv2(x)))\n",
    "        x = self.flatten(x)\n",
    "        features = F.relu(self.fc1(x))\n",
    "        if return_features:\n",
    "            return features\n",
    "        return self.fc2(features)\n",
    "\n",
    "device = torch.device(\"cuda\" if torch.cuda.is_available() else \"cpu\")\n",
    "model = SimpleCNN(num_classes=10).to(device)\n",
    "model.load_state_dict(torch.load(\"best_cnn_model.pt\", map_location=torch.device(\"cpu\")))\n",
    "model.eval()\n",
    "\n",
    "def extract_features(model, dataloader):\n",
    "    model.eval()\n",
    "    features = []\n",
    "    labels = []\n",
    "    with torch.no_grad():\n",
    "        for images, targets in dataloader:\n",
    "            images = images.to(device)\n",
    "            feats = model(images, return_features=True)\n",
    "            features.append(feats.cpu().numpy())\n",
    "            labels.append(targets.numpy())\n",
    "    return np.vstack(features), np.hstack(labels)\n",
    "\n",
    "X_train_feats, y_train = extract_features(model, train_loader)\n",
    "X_test_feats, y_test = extract_features(model, test_loader)\n",
    "\n",
    "lda_components = 9\n",
    "\n",
    "lda = LinearDiscriminantAnalysis(n_components=lda_components)\n",
    "x_train_lda = lda.fit_transform(X_train_feats, y_train)\n",
    "x_test_lda = lda.transform(X_test_feats)"
   ]
  },
  {
   "cell_type": "code",
   "execution_count": null,
   "id": "f7af53af",
   "metadata": {},
   "outputs": [
    {
     "name": "stdout",
     "output_type": "stream",
     "text": [
      "Adjusted Rand Index (ARI): 0.7246\n"
     ]
    },
    {
     "name": "stderr",
     "output_type": "stream",
     "text": [
      "c:\\Users\\ted12\\anaconda3\\envs\\NLP\\Lib\\site-packages\\sklearn\\cluster\\_kmeans.py:1334: UserWarning: KMeans is known to have a memory leak on Windows with MKL, when there are less chunks than available threads. You can avoid it by setting the environment variable OMP_NUM_THREADS=12.\n",
      "  warnings.warn(\n"
     ]
    }
   ],
   "source": [
    "from sklearn.cluster import KMeans\n",
    "from sklearn.metrics import adjusted_rand_score\n",
    "\n",
    "# LDA + K-means clustering\n",
    "\n",
    "n_clusters = 10\n",
    "\n",
    "kmeans = KMeans(n_clusters=n_clusters, random_state=42)\n",
    "cluster_labels = kmeans.fit_predict(x_test_lda)\n",
    "\n",
    "ari = adjusted_rand_score(y_test, cluster_labels)\n",
    "print(f\"Adjusted Rand Index (ARI): {ari:.4f}\")"
   ]
  },
  {
   "cell_type": "code",
   "execution_count": null,
   "id": "f1907868",
   "metadata": {},
   "outputs": [
    {
     "name": "stderr",
     "output_type": "stream",
     "text": [
      "c:\\Users\\ted12\\anaconda3\\envs\\NLP\\Lib\\site-packages\\sklearn\\cluster\\_kmeans.py:1334: UserWarning: KMeans is known to have a memory leak on Windows with MKL, when there are less chunks than available threads. You can avoid it by setting the environment variable OMP_NUM_THREADS=12.\n",
      "  warnings.warn(\n"
     ]
    },
    {
     "name": "stdout",
     "output_type": "stream",
     "text": [
      "EM Clustering ARI: 0.7612\n"
     ]
    }
   ],
   "source": [
    "from sklearn.mixture import GaussianMixture\n",
    "from sklearn.metrics import adjusted_rand_score\n",
    "\n",
    "# LDA + EM algorithm\n",
    "\n",
    "n_components = 10\n",
    "\n",
    "\n",
    "gmm = GaussianMixture(n_components=n_components, covariance_type='full', random_state=42)\n",
    "gmm.fit(x_test_lda)\n",
    "\n",
    "\n",
    "cluster_labels = gmm.predict(x_test_lda)\n",
    "\n",
    "\n",
    "ari = adjusted_rand_score(y_test, cluster_labels)\n",
    "print(f\"EM Clustering ARI: {ari:.4f}\")"
   ]
  },
  {
   "cell_type": "code",
   "execution_count": null,
   "id": "5ee26399",
   "metadata": {},
   "outputs": [
    {
     "name": "stdout",
     "output_type": "stream",
     "text": [
      "✅ Accuracy: 0.9010\n",
      "              precision    recall  f1-score   support\n",
      "\n",
      "           0       0.94      0.87      0.90       300\n",
      "           1       0.95      0.96      0.96       300\n",
      "           2       0.93      0.92      0.92       300\n",
      "           3       0.85      0.86      0.85       300\n",
      "           4       0.83      0.91      0.86       300\n",
      "           5       0.92      0.93      0.92       300\n",
      "           6       0.91      0.92      0.91       300\n",
      "           7       0.89      0.88      0.88       300\n",
      "           8       0.88      0.91      0.89       300\n",
      "           9       0.94      0.85      0.90       300\n",
      "\n",
      "    accuracy                           0.90      3000\n",
      "   macro avg       0.90      0.90      0.90      3000\n",
      "weighted avg       0.90      0.90      0.90      3000\n",
      "\n"
     ]
    }
   ],
   "source": [
    "from sklearn.naive_bayes import GaussianNB\n",
    "from sklearn.metrics import classification_report, accuracy_score, confusion_matrix\n",
    "\n",
    "gnb = GaussianNB()\n",
    "gnb.fit(x_train_lda, y_train)\n",
    "\n",
    "y_pred = gnb.predict(x_test_lda)\n",
    "accuracy = accuracy_score(y_test, y_pred)\n",
    "print(f\"✅ Accuracy: {accuracy:.4f}\")\n",
    "print(classification_report(y_test, y_pred))\n",
    "\n",
    "cm = confusion_matrix(y_test, y_pred)\n",
    "plt.figure(figsize=(8, 6))\n",
    "sns.heatmap(cm, annot=True, fmt='d', cmap='Blues',\n",
    "            xticklabels=np.unique(y_test), yticklabels=np.unique(y_test))\n",
    "plt.title(\"Confusion Matrix: CNN Feature + LDA + GNB\")\n",
    "plt.xlabel(\"Predicted\")\n",
    "plt.ylabel(\"Actual\")\n",
    "plt.tight_layout()\n",
    "plt.savefig(os.path.join(\"../results/CNN/LDA_GNB\", \"confusion_matrix_cnn_lda_gnb.png\"))\n",
    "plt.close()\n",
    "\n",
    "report = classification_report(y_test, y_pred, output_dict=True)\n",
    "flat_report = {\n",
    "    f\"{label}_{metric}\": score\n",
    "    for label, scores in report.items() if isinstance(scores, dict)\n",
    "    for metric, score in scores.items()\n",
    "}\n",
    "flat_report[\"accuracy\"] = accuracy\n",
    "flat_report[\"lda_components\"] = lda_components\n",
    "\n",
    "df = pd.DataFrame([flat_report])\n",
    "df.to_csv(os.path.join(\"../results/CNN/LDA_GNB\", \"classification_report_cnn_lda_gnb.csv\"), index=False)\n"
   ]
  },
  {
   "cell_type": "code",
   "execution_count": null,
   "id": "96202b52",
   "metadata": {},
   "outputs": [
    {
     "name": "stdout",
     "output_type": "stream",
     "text": [
      "✅ Accuracy: 0.9127\n",
      "              precision    recall  f1-score   support\n",
      "\n",
      "           0       0.92      0.92      0.92       300\n",
      "           1       0.95      0.98      0.96       300\n",
      "           2       0.93      0.94      0.93       300\n",
      "           3       0.88      0.88      0.88       300\n",
      "           4       0.87      0.89      0.88       300\n",
      "           5       0.94      0.92      0.93       300\n",
      "           6       0.93      0.90      0.92       300\n",
      "           7       0.91      0.88      0.89       300\n",
      "           8       0.87      0.92      0.89       300\n",
      "           9       0.93      0.89      0.91       300\n",
      "\n",
      "    accuracy                           0.91      3000\n",
      "   macro avg       0.91      0.91      0.91      3000\n",
      "weighted avg       0.91      0.91      0.91      3000\n",
      "\n"
     ]
    }
   ],
   "source": [
    "from sklearn.svm import SVC\n",
    "from sklearn.metrics import classification_report, accuracy_score, confusion_matrix\n",
    "\n",
    "clf = SVC(kernel='rbf', gamma='scale', probability=True)\n",
    "clf.fit(x_train_lda, y_train)\n",
    "\n",
    "y_pred = clf.predict(x_test_lda)\n",
    "\n",
    "accuracy = accuracy_score(y_test, y_pred)\n",
    "report = classification_report(y_test, y_pred, output_dict=True)\n",
    "print(f\"✅ Accuracy: {accuracy:.4f}\")\n",
    "print(classification_report(y_test, y_pred))\n",
    "\n",
    "cm = confusion_matrix(y_test, y_pred)\n",
    "plt.figure(figsize=(8, 6))\n",
    "sns.heatmap(cm, annot=True, fmt=\"d\", cmap=\"Blues\",\n",
    "            xticklabels=np.unique(y_test),\n",
    "            yticklabels=np.unique(y_test))\n",
    "plt.title(\"Confusion Matrix: CNN Feature + LDA + SVM\")\n",
    "plt.xlabel(\"Predicted\")\n",
    "plt.ylabel(\"Actual\")\n",
    "plt.tight_layout()\n",
    "plt.savefig(os.path.join(\"../results/CNN/LDA_SVM\", \"confusion_matrix_cnn_lda_svm.png\"))\n",
    "plt.close()\n",
    "\n",
    "flat_report = {\n",
    "    f\"{label}_{metric}\": value\n",
    "    for label, scores in report.items() if isinstance(scores, dict)\n",
    "    for metric, value in scores.items()\n",
    "}\n",
    "flat_report[\"lda_components\"] = lda_components\n",
    "flat_report[\"accuracy\"] = accuracy\n",
    "\n",
    "df = pd.DataFrame([flat_report])\n",
    "df.to_csv(os.path.join(\"../results/CNN/LDA_SVM\", \"classification_report_cnn_lda_svm.csv\"), index=False)\n"
   ]
  }
 ],
 "metadata": {
  "kernelspec": {
   "display_name": "NLP",
   "language": "python",
   "name": "python3"
  },
  "language_info": {
   "codemirror_mode": {
    "name": "ipython",
    "version": 3
   },
   "file_extension": ".py",
   "mimetype": "text/x-python",
   "name": "python",
   "nbconvert_exporter": "python",
   "pygments_lexer": "ipython3",
   "version": "3.11.9"
  }
 },
 "nbformat": 4,
 "nbformat_minor": 5
}
