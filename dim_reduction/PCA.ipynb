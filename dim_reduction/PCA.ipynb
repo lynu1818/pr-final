{
 "cells": [
  {
   "cell_type": "code",
   "execution_count": null,
   "id": "499daf22",
   "metadata": {
    "vscode": {
     "languageId": "plaintext"
    }
   },
   "outputs": [],
   "source": [
    "import numpy as np\n",
    "import matplotlib.pyplot as plt\n",
    "import seaborn as sns\n",
    "import pandas as pd\n",
    "import os\n",
    "\n",
    "from sklearn.decomposition import PCA\n",
    "from sklearn.svm import SVC\n",
    "from sklearn.metrics import classification_report, accuracy_score, confusion_matrix\n",
    "from sklearn.preprocessing import StandardScaler\n",
    "\n",
    "import mnist_reader\n"
   ]
  },
  {
   "cell_type": "code",
   "execution_count": null,
   "id": "899e7847",
   "metadata": {
    "vscode": {
     "languageId": "plaintext"
    }
   },
   "outputs": [],
   "source": [
    "output_dir = \"pca_svm_output\"\n",
    "os.makedirs(output_dir, exist_ok=True)\n"
   ]
  },
  {
   "cell_type": "code",
   "execution_count": null,
   "id": "e7fc3c19",
   "metadata": {
    "vscode": {
     "languageId": "plaintext"
    }
   },
   "outputs": [],
   "source": [
    "x_train, y_train = mnist_reader.load_data('/home/lynuc/pr-final/oracle-mnist/data/oracle', kind='train')\n",
    "x_test, y_test = mnist_reader.load_data('/home/lynuc/pr-final/oracle-mnist/data/oracle', kind='t10k')\n"
   ]
  },
  {
   "cell_type": "code",
   "execution_count": null,
   "id": "90737718",
   "metadata": {
    "vscode": {
     "languageId": "plaintext"
    }
   },
   "outputs": [],
   "source": [
    "x_train = x_train.reshape((x_train.shape[0], -1))\n",
    "x_test = x_test.reshape((x_test.shape[0], -1))\n",
    "\n",
    "scaler = StandardScaler()\n",
    "x_train_scaled = scaler.fit_transform(x_train)\n",
    "x_test_scaled = scaler.transform(x_test)\n"
   ]
  },
  {
   "cell_type": "code",
   "execution_count": null,
   "id": "5406b0b2",
   "metadata": {
    "vscode": {
     "languageId": "plaintext"
    }
   },
   "outputs": [],
   "source": [
    "def visualize_pca(x, y, pca_components, filename):\n",
    "    pca = PCA(n_components=pca_components)\n",
    "    x_pca = pca.fit_transform(x)\n",
    "\n",
    "    if pca_components == 2:\n",
    "        plt.figure(figsize=(8, 6))\n",
    "        for digit in np.unique(y):\n",
    "            idx = y == digit\n",
    "            plt.scatter(x_pca[idx, 0], x_pca[idx, 1], label=str(digit), alpha=0.5)\n",
    "        plt.title(\"PCA with 2 Components\")\n",
    "        plt.xlabel(\"PC1\")\n",
    "        plt.ylabel(\"PC2\")\n",
    "        plt.legend()\n",
    "        plt.grid(True)\n",
    "        plt.savefig(filename)\n",
    "        plt.close()\n",
    "\n",
    "    return pca, x_pca\n",
    "\n",
    "def plot_decision_boundary(clf, X, y, title, filename):\n",
    "    x_min, x_max = X[:, 0].min() - 1, X[:, 0].max() + 1\n",
    "    y_min, y_max = X[:, 1].min() - 1, X[:, 1].max() + 1\n",
    "    xx, yy = np.meshgrid(np.linspace(x_min, x_max, 300),\n",
    "                         np.linspace(y_min, y_max, 300))\n",
    "    Z = clf.predict(np.c_[xx.ravel(), yy.ravel()])\n",
    "    Z = Z.reshape(xx.shape)\n",
    "\n",
    "    plt.figure(figsize=(8, 6))\n",
    "    plt.contourf(xx, yy, Z, alpha=0.3, cmap='tab10')\n",
    "    for digit in np.unique(y):\n",
    "        idx = y == digit\n",
    "        plt.scatter(X[idx, 0], X[idx, 1], label=str(digit), s=15)\n",
    "    plt.title(title)\n",
    "    plt.xlabel(\"PC1\")\n",
    "    plt.ylabel(\"PC2\")\n",
    "    plt.legend()\n",
    "    plt.grid(True)\n",
    "    plt.savefig(filename)\n",
    "    plt.close()\n",
    "\n",
    "def plot_confusion_matrix(y_true, y_pred, title, filename):\n",
    "    cm = confusion_matrix(y_true, y_pred)\n",
    "    plt.figure(figsize=(8, 6))\n",
    "    sns.heatmap(cm, annot=True, fmt=\"d\", cmap=\"Blues\",\n",
    "                xticklabels=np.unique(y_true), yticklabels=np.unique(y_true))\n",
    "    plt.title(title)\n",
    "    plt.xlabel(\"Predicted Label\")\n",
    "    plt.ylabel(\"True Label\")\n",
    "    plt.savefig(filename)\n",
    "    plt.close()\n"
   ]
  },
  {
   "cell_type": "code",
   "execution_count": null,
   "id": "a10a41ac",
   "metadata": {
    "vscode": {
     "languageId": "plaintext"
    }
   },
   "outputs": [],
   "source": [
    "components_list = [2, 4, 8]\n",
    "results = []\n",
    "\n",
    "for n_components in components_list:\n",
    "    print(f\"\\n=== PCA with {n_components} components ===\")\n",
    "    \n",
    "    # PCA\n",
    "    pca = PCA(n_components=n_components)\n",
    "    x_train_pca = pca.fit_transform(x_train_scaled)\n",
    "    x_test_pca = pca.transform(x_test_scaled)\n",
    "\n",
    "    # SVM 訓練\n",
    "    clf = SVC(kernel='rbf', gamma='scale', probability=True)\n",
    "    clf.fit(x_train_pca, y_train)\n",
    "    y_pred = clf.predict(x_test_pca)\n",
    "\n",
    "    # 評估\n",
    "    acc = accuracy_score(y_test, y_pred)\n",
    "    report = classification_report(y_test, y_pred, output_dict=True)\n",
    "    print(f\"Accuracy: {acc:.4f}\")\n",
    "    print(classification_report(y_test, y_pred))\n",
    "\n",
    "    # 儲存混淆矩陣\n",
    "    plot_confusion_matrix(y_test, y_pred,\n",
    "        title=f\"Confusion Matrix (PCA={n_components})\",\n",
    "        filename=os.path.join(output_dir, f\"confusion_matrix_pca{n_components}.png\")\n",
    "    )\n",
    "\n",
    "    # 儲存文字結果\n",
    "    flat_report = {}\n",
    "    for label, scores in report.items():\n",
    "        if isinstance(scores, dict):\n",
    "            for metric, value in scores.items():\n",
    "                flat_report[f\"{label}_{metric}\"] = value\n",
    "        else:\n",
    "            flat_report[label] = scores  # accuracy\n",
    "\n",
    "    flat_report[\"pca_components\"] = n_components\n",
    "    flat_report[\"accuracy\"] = acc\n",
    "    results.append(flat_report)\n",
    "\n",
    "    if n_components == 2:\n",
    "        _, x_train_pca_vis = visualize_pca(x_train_scaled, y_train, 2,\n",
    "            os.path.join(output_dir, \"pca2_visualization.png\"))\n",
    "\n",
    "        plot_decision_boundary(clf, x_train_pca_vis, y_train,\n",
    "            title=\"SVM Decision Boundary (PCA=2)\",\n",
    "            filename=os.path.join(output_dir, \"decision_boundary_pca2.png\"))\n"
   ]
  },
  {
   "cell_type": "code",
   "execution_count": null,
   "id": "9d44b5ce",
   "metadata": {
    "vscode": {
     "languageId": "plaintext"
    }
   },
   "outputs": [],
   "source": [
    "df = pd.DataFrame(results)\n",
    "df.to_csv(os.path.join(output_dir, \"classification_report_full.csv\"), index=False)"
   ]
  }
 ],
 "metadata": {
  "language_info": {
   "name": "python"
  }
 },
 "nbformat": 4,
 "nbformat_minor": 5
}
